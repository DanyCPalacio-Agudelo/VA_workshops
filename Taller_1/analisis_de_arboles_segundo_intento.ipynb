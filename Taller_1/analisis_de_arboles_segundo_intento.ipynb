{
 "cells": [
  {
   "cell_type": "markdown",
   "id": "ac511ded",
   "metadata": {},
   "source": [
    "# Análisis de Imágenes con DeepForest\n",
    "Este notebook procesa imágenes en tres resoluciones para detección de árboles usando DeepForest, ajusta un umbral de confianza basado en ejemplos de la documentación, calcula métricas de evaluación (precisión, recall, F1) y guarda los resultados junto con las imágenes anotadas."
   ]
  },
  {
   "cell_type": "markdown",
   "id": "a456978e",
   "metadata": {},
   "source": [
    "## 1. Clonar repositorio y configuración inicial"
   ]
  },
  {
   "cell_type": "code",
   "execution_count": 1,
   "id": "3c9d4f8d",
   "metadata": {},
   "outputs": [
    {
     "name": "stdout",
     "output_type": "stream",
     "text": [
      "El repositorio ya existe localmente.\n"
     ]
    }
   ],
   "source": [
    "import os\n",
    "import git\n",
    "\n",
    "# Parámetros de repositorio y carpetas\n",
    "REPO_URL = 'https://github.com/maraosoc/citrus3-detector.git'\n",
    "REPO_DIR = 'citrus3-detector'\n",
    "DATA_DIR = os.path.join(REPO_DIR, 'data', 'samples')\n",
    "RESULT_DIR = 'resultados_citrus'\n",
    "\n",
    "# Clonar si no existe\n",
    "if not os.path.exists(REPO_DIR):\n",
    "    print('Clonando repositorio...')\n",
    "    git.Repo.clone_from(REPO_URL, REPO_DIR)\n",
    "else:\n",
    "    print('El repositorio ya existe localmente.')\n"
   ]
  },
  {
   "cell_type": "markdown",
   "id": "6baf74dd",
   "metadata": {},
   "source": [
    "## 2. Configuración de modelo y umbrales"
   ]
  },
  {
   "cell_type": "code",
   "execution_count": 2,
   "id": "f3f80732",
   "metadata": {},
   "outputs": [
    {
     "name": "stdout",
     "output_type": "stream",
     "text": [
      "Reading config file: d:\\MAESTRIA_CIENCIAS_DE_LOS_DATOS\\SEMESTRE 2025-I\\bosqueprof\\Lib\\site-packages\\deepforest\\data\\deepforest_config.yml\n"
     ]
    },
    {
     "name": "stderr",
     "output_type": "stream",
     "text": [
      "GPU available: False, used: False\n",
      "TPU available: False, using: 0 TPU cores\n",
      "HPU available: False, using: 0 HPUs\n",
      "UserWarning: Starting from v1.9.0, `tensorboardX` has been removed as a dependency of the `pytorch_lightning` package, due to potential conflicts with other packages in the ML ecosystem. For this reason, `logger=True` will use `CSVLogger` as the default logger, unless the `tensorboard` or `tensorboardX` packages are found. Please `pip install lightning[extra]` or one of them to enable TensorBoard support by default\n"
     ]
    },
    {
     "name": "stdout",
     "output_type": "stream",
     "text": [
      "Reading config file: d:\\MAESTRIA_CIENCIAS_DE_LOS_DATOS\\SEMESTRE 2025-I\\bosqueprof\\Lib\\site-packages\\deepforest\\data\\deepforest_config.yml\n"
     ]
    },
    {
     "name": "stderr",
     "output_type": "stream",
     "text": [
      "GPU available: False, used: False\n",
      "TPU available: False, using: 0 TPU cores\n",
      "HPU available: False, using: 0 HPUs\n"
     ]
    }
   ],
   "source": [
    "from deepforest import main\n",
    "\n",
    "# Cargar modelo pre-entrenado\n",
    "modelo = main.deepforest()\n",
    "modelo.use_release()\n",
    "\n",
    "# Ajuste de umbral de confianza según ejemplos de la documentación (score_thresh = 0.3)\n",
    "modelo.config['score_thresh'] = 0.3  # Retener predicciones con score >= 0.3\n"
   ]
  },
  {
   "cell_type": "markdown",
   "id": "aade01c6",
   "metadata": {},
   "source": [
    "## 3. Funciones auxiliares: IoU, emparejamiento y métricas"
   ]
  },
  {
   "cell_type": "code",
   "execution_count": 3,
   "id": "b642f8db",
   "metadata": {},
   "outputs": [],
   "source": [
    "import numpy as np\n",
    "\n",
    "def compute_iou(box1, box2):\n",
    "    \"\"\"Calcula el IoU entre dos cajas [xmin, ymin, xmax, ymax].\"\"\"\n",
    "    x1 = max(box1[0], box2[0])\n",
    "    y1 = max(box1[1], box2[1])\n",
    "    x2 = min(box1[2], box2[2])\n",
    "    y2 = min(box1[3], box2[3])\n",
    "    inter_area = max(0, x2 - x1) * max(0, y2 - y1)\n",
    "    area1 = (box1[2] - box1[0]) * (box1[3] - box1[1])\n",
    "    area2 = (box2[2] - box2[0]) * (box2[3] - box2[1])\n",
    "    union_area = area1 + area2 - inter_area\n",
    "    return inter_area / union_area if union_area > 0 else 0\n",
    "\n",
    "def match_boxes(predictions, ground_truth, iou_threshold=0.4):\n",
    "    \"\"\"Empareja predicciones y ground truth según IoU y devuelve TP, FP, FN.\"\"\"\n",
    "    matched_gt = set()\n",
    "    tp = 0\n",
    "    for _, pred in predictions.iterrows():\n",
    "        pred_box = [pred.xmin, pred.ymin, pred.xmax, pred.ymax]\n",
    "        for idx, true in ground_truth.iterrows():\n",
    "            if idx in matched_gt:\n",
    "                continue\n",
    "            true_box = [true.xmin, true.ymin, true.xmax, true.ymax]\n",
    "            if compute_iou(pred_box, true_box) >= iou_threshold:\n",
    "                tp += 1\n",
    "                matched_gt.add(idx)\n",
    "                break\n",
    "    fp = len(predictions) - tp\n",
    "    fn = len(ground_truth) - tp\n",
    "    return tp, fp, fn\n",
    "\n",
    "def compute_metrics(tp, fp, fn):\n",
    "    \"\"\"Calcula precisión, recall y F1.\"\"\"\n",
    "    precision = tp / (tp + fp) if (tp + fp) > 0 else 0\n",
    "    recall = tp / (tp + fn) if (tp + fn) > 0 else 0\n",
    "    f1 = 2 * precision * recall / (precision + recall) if (precision + recall) > 0 else 0\n",
    "    return precision, recall, f1\n"
   ]
  },
  {
   "cell_type": "markdown",
   "id": "dba65e21",
   "metadata": {},
   "source": [
    "## 4. Procesamiento de imágenes y evaluación"
   ]
  },
  {
   "cell_type": "code",
   "execution_count": 4,
   "id": "54479e8e",
   "metadata": {},
   "outputs": [
    {
     "name": "stderr",
     "output_type": "stream",
     "text": [
      "UserWarning: Image type is uint8, transforming to float32. This assumes that the range of pixel values is 0-255, as opposed to 0-1.To suppress this warning, transform image (image.astype('float32')\n",
      "UserWarning: root_dir argument for the location of images should be specified if input is not a path, returning without results.root_dir attribute\n",
      "UserWarning: An image was passed directly to predict_image, the result.root_dir attribute will be None in the output dataframe, to use visualize.plot_results, please assign results.root_dir = <directory name>\n",
      "UserWarning: No color was provided and the label column is not numeric. Using a single default color.\n",
      "UserWarning: Image type is uint8, transforming to float32. This assumes that the range of pixel values is 0-255, as opposed to 0-1.To suppress this warning, transform image (image.astype('float32')\n",
      "UserWarning: root_dir argument for the location of images should be specified if input is not a path, returning without results.root_dir attribute\n",
      "UserWarning: An image was passed directly to predict_image, the result.root_dir attribute will be None in the output dataframe, to use visualize.plot_results, please assign results.root_dir = <directory name>\n",
      "UserWarning: No color was provided and the label column is not numeric. Using a single default color.\n",
      "UserWarning: Image type is uint8, transforming to float32. This assumes that the range of pixel values is 0-255, as opposed to 0-1.To suppress this warning, transform image (image.astype('float32')\n",
      "UserWarning: root_dir argument for the location of images should be specified if input is not a path, returning without results.root_dir attribute\n",
      "UserWarning: An image was passed directly to predict_image, the result.root_dir attribute will be None in the output dataframe, to use visualize.plot_results, please assign results.root_dir = <directory name>\n",
      "UserWarning: No color was provided and the label column is not numeric. Using a single default color.\n",
      "UserWarning: Image type is uint8, transforming to float32. This assumes that the range of pixel values is 0-255, as opposed to 0-1.To suppress this warning, transform image (image.astype('float32')\n",
      "UserWarning: root_dir argument for the location of images should be specified if input is not a path, returning without results.root_dir attribute\n",
      "UserWarning: An image was passed directly to predict_image, the result.root_dir attribute will be None in the output dataframe, to use visualize.plot_results, please assign results.root_dir = <directory name>\n",
      "UserWarning: No color was provided and the label column is not numeric. Using a single default color.\n",
      "UserWarning: Image type is uint8, transforming to float32. This assumes that the range of pixel values is 0-255, as opposed to 0-1.To suppress this warning, transform image (image.astype('float32')\n",
      "UserWarning: root_dir argument for the location of images should be specified if input is not a path, returning without results.root_dir attribute\n",
      "UserWarning: An image was passed directly to predict_image, the result.root_dir attribute will be None in the output dataframe, to use visualize.plot_results, please assign results.root_dir = <directory name>\n",
      "UserWarning: No color was provided and the label column is not numeric. Using a single default color.\n",
      "UserWarning: Image type is uint8, transforming to float32. This assumes that the range of pixel values is 0-255, as opposed to 0-1.To suppress this warning, transform image (image.astype('float32')\n",
      "UserWarning: root_dir argument for the location of images should be specified if input is not a path, returning without results.root_dir attribute\n",
      "UserWarning: An image was passed directly to predict_image, the result.root_dir attribute will be None in the output dataframe, to use visualize.plot_results, please assign results.root_dir = <directory name>\n",
      "UserWarning: No color was provided and the label column is not numeric. Using a single default color.\n",
      "UserWarning: Image type is uint8, transforming to float32. This assumes that the range of pixel values is 0-255, as opposed to 0-1.To suppress this warning, transform image (image.astype('float32')\n",
      "UserWarning: root_dir argument for the location of images should be specified if input is not a path, returning without results.root_dir attribute\n",
      "UserWarning: An image was passed directly to predict_image, the result.root_dir attribute will be None in the output dataframe, to use visualize.plot_results, please assign results.root_dir = <directory name>\n",
      "UserWarning: No color was provided and the label column is not numeric. Using a single default color.\n",
      "UserWarning: Image type is uint8, transforming to float32. This assumes that the range of pixel values is 0-255, as opposed to 0-1.To suppress this warning, transform image (image.astype('float32')\n",
      "UserWarning: root_dir argument for the location of images should be specified if input is not a path, returning without results.root_dir attribute\n",
      "UserWarning: An image was passed directly to predict_image, the result.root_dir attribute will be None in the output dataframe, to use visualize.plot_results, please assign results.root_dir = <directory name>\n",
      "UserWarning: No color was provided and the label column is not numeric. Using a single default color.\n",
      "UserWarning: Image type is uint8, transforming to float32. This assumes that the range of pixel values is 0-255, as opposed to 0-1.To suppress this warning, transform image (image.astype('float32')\n",
      "UserWarning: root_dir argument for the location of images should be specified if input is not a path, returning without results.root_dir attribute\n",
      "UserWarning: An image was passed directly to predict_image, the result.root_dir attribute will be None in the output dataframe, to use visualize.plot_results, please assign results.root_dir = <directory name>\n",
      "UserWarning: No color was provided and the label column is not numeric. Using a single default color.\n"
     ]
    }
   ],
   "source": [
    "import cv2\n",
    "import pandas as pd\n",
    "from deepforest.visualize import plot_predictions\n",
    "\n",
    "# Resoluciones a comparar\n",
    "RESOLUCIONES = {\n",
    "    'original': None,  # None = mantener tamaño original\n",
    "    'medio': (1033, 939),\n",
    "    'pequeno': (516, 469)\n",
    "}\n",
    "\n",
    "# Conteos aproximados si no hay anotaciones\n",
    "approx_counts = {'single_batch_2': 110}\n",
    "\n",
    "os.makedirs(RESULT_DIR, exist_ok=True)\n",
    "resumen_general = []\n",
    "\n",
    "for img_file in os.listdir(DATA_DIR):\n",
    "    if not img_file.lower().endswith(('.tif', '.png', '.jpg')):\n",
    "        continue\n",
    "    img_path = os.path.join(DATA_DIR, img_file)\n",
    "    basename = os.path.splitext(img_file)[0]\n",
    "    img = cv2.imread(img_path)\n",
    "    if img is None:\n",
    "        continue\n",
    "    # Cargar anotaciones ground truth si existen\n",
    "    gt_path = os.path.join(REPO_DIR, 'data', 'annotations', f'{basename}_gt.csv')\n",
    "    if os.path.exists(gt_path):\n",
    "        ground_truth = pd.read_csv(gt_path)\n",
    "    else:\n",
    "        ground_truth = None\n",
    "\n",
    "    for res_name, size in RESOLUCIONES.items():\n",
    "        if size:\n",
    "            img_resized = cv2.resize(img, size, interpolation=cv2.INTER_AREA)\n",
    "        else:\n",
    "            img_resized = img.copy()\n",
    "\n",
    "        # Predicción\n",
    "        boxes = modelo.predict_image(image=img_resized, return_plot=False)\n",
    "        # Filtrar por score_thresh\n",
    "        boxes = boxes[boxes.score >= modelo.config['score_thresh']]\n",
    "\n",
    "        # Evaluación\n",
    "        if ground_truth is not None:\n",
    "            tp, fp, fn = match_boxes(boxes, ground_truth)\n",
    "            precision, recall, f1 = compute_metrics(tp, fp, fn)\n",
    "        else:\n",
    "            tp = fp = fn = None\n",
    "            detected = len(boxes)\n",
    "            true_count = approx_counts.get(basename, None)\n",
    "            err_abs = detected - true_count if true_count else None\n",
    "            precision = recall = f1 = None\n",
    "\n",
    "        # Guardar CSV de predicciones\n",
    "        boxes.to_csv(os.path.join(RESULT_DIR, f'cajas_{res_name}_{basename}.csv'), index=False)\n",
    "        # Guardar imagen anotada\n",
    "        annotated = plot_predictions(img_resized, boxes)\n",
    "        cv2.imwrite(os.path.join(RESULT_DIR, f'annotated_{res_name}_{basename}.png'), annotated)\n",
    "\n",
    "        # Agregar al resumen\n",
    "        resumen_general.append({\n",
    "            'Imagen': basename,\n",
    "            'Resolución': res_name,\n",
    "            'Detections': len(boxes),\n",
    "            'TP': tp, 'FP': fp, 'FN': fn,\n",
    "            'Precision': precision, 'Recall': recall, 'F1': f1\n",
    "        })\n",
    "\n",
    "# Guardar resumen general\n",
    "df_resumen = pd.DataFrame(resumen_general)\n",
    "df_resumen.to_csv(os.path.join(RESULT_DIR, 'resumen_general.csv'), index=False)\n"
   ]
  },
  {
   "cell_type": "markdown",
   "id": "65abbbb9",
   "metadata": {},
   "source": [
    "## 5. Resultados\n",
    "- Los CSV y las imágenes anotadas se guardan en `resultados_citrus`.\n",
    "- El resumen general con métricas está en `resumen_general.csv`."
   ]
  }
 ],
 "metadata": {
  "kernelspec": {
   "display_name": "bosqueprof",
   "language": "python",
   "name": "python3"
  },
  "language_info": {
   "codemirror_mode": {
    "name": "ipython",
    "version": 3
   },
   "file_extension": ".py",
   "mimetype": "text/x-python",
   "name": "python",
   "nbconvert_exporter": "python",
   "pygments_lexer": "ipython3",
   "version": "3.11.9"
  }
 },
 "nbformat": 4,
 "nbformat_minor": 5
}
